{
 "metadata": {
  "name": "",
  "signature": "sha256:a52f8d159182da6776f847c530e7ce0876c90f00aa9d24b7594a0a2ae91030a6"
 },
 "nbformat": 3,
 "nbformat_minor": 0,
 "worksheets": [
  {
   "cells": [
    {
     "cell_type": "code",
     "collapsed": false,
     "input": [
      "# largest palendrome\n",
      "# A palindromic number reads the same both ways. \n",
      "# The largest palindrome made from the product of two 2-digit numbers is 9009 = 91 \u00d7 99.\n",
      "# Find the largest palindrome made from the product of two 3-digit numbers.\n"
     ],
     "language": "python",
     "metadata": {},
     "outputs": [],
     "prompt_number": 1
    },
    {
     "cell_type": "code",
     "collapsed": false,
     "input": [
      "biggest_sum = 999*999\n",
      "print biggest_sum\n"
     ],
     "language": "python",
     "metadata": {},
     "outputs": [
      {
       "output_type": "stream",
       "stream": "stdout",
       "text": [
        "998001\n"
       ]
      }
     ],
     "prompt_number": 2
    },
    {
     "cell_type": "code",
     "collapsed": false,
     "input": [],
     "language": "python",
     "metadata": {},
     "outputs": []
    }
   ],
   "metadata": {}
  }
 ]
}