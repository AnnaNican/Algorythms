{
 "metadata": {
  "name": "",
  "signature": "sha256:ce28f4228ec217654a0ac0ffbf1e89c982b61bc75fd99ad5d5824791b7f58b1c"
 },
 "nbformat": 3,
 "nbformat_minor": 0,
 "worksheets": []
}